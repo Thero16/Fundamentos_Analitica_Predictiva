{
 "cells": [
  {
   "cell_type": "markdown",
   "id": "fb018a20",
   "metadata": {},
   "source": [
    "# Creacion de una clase"
   ]
  },
  {
   "cell_type": "code",
   "execution_count": 1,
   "id": "07db9387",
   "metadata": {},
   "outputs": [],
   "source": [
    "class Vehiculo():\n",
    "    pass"
   ]
  },
  {
   "cell_type": "markdown",
   "id": "c0915c4f",
   "metadata": {},
   "source": [
    "# Instaciar una clase (crear un objeto)"
   ]
  },
  {
   "cell_type": "code",
   "execution_count": 2,
   "id": "f3f7a395",
   "metadata": {},
   "outputs": [],
   "source": [
    "camion=  Vehiculo()\n",
    "carro= Vehiculo()"
   ]
  },
  {
   "cell_type": "code",
   "execution_count": 3,
   "id": "6ea8a8db",
   "metadata": {},
   "outputs": [
    {
     "name": "stdout",
     "output_type": "stream",
     "text": [
      "<__main__.Vehiculo object at 0x7f45f079d640>\n",
      "<__main__.Vehiculo object at 0x7f45f079c1a0>\n"
     ]
    }
   ],
   "source": [
    "print(camion)\n",
    "print(carro)"
   ]
  },
  {
   "cell_type": "markdown",
   "id": "1af22f41",
   "metadata": {},
   "source": [
    "# Diseñar el constructor de vehiculo"
   ]
  },
  {
   "cell_type": "code",
   "execution_count": 4,
   "id": "985ab271",
   "metadata": {},
   "outputs": [],
   "source": [
    "class Vehiculo():\n",
    "    #Metodo constructor\n",
    "    def __init__(self, marca, modelo, cilindraje, color):\n",
    "        self.marca= marca\n",
    "        self.modelo= modelo\n",
    "        self.cilindraje= cilindraje\n",
    "        self.color= color "
   ]
  },
  {
   "cell_type": "code",
   "execution_count": 5,
   "id": "029a20da",
   "metadata": {},
   "outputs": [],
   "source": [
    "carro= Vehiculo('Toyota',2022,1600,'Negro')\n"
   ]
  },
  {
   "cell_type": "code",
   "execution_count": 6,
   "id": "6b40e3ec",
   "metadata": {},
   "outputs": [
    {
     "data": {
      "text/plain": [
       "'Negro'"
      ]
     },
     "execution_count": 6,
     "metadata": {},
     "output_type": "execute_result"
    }
   ],
   "source": [
    "carro.color"
   ]
  },
  {
   "cell_type": "code",
   "execution_count": 7,
   "id": "a03c65cc",
   "metadata": {},
   "outputs": [
    {
     "name": "stdout",
     "output_type": "stream",
     "text": [
      "Mi vehiculo es de marca Toyota y es de color Negro\n"
     ]
    }
   ],
   "source": [
    "print(f\"Mi vehiculo es de marca {carro.marca} y es de color {carro.color}\")"
   ]
  },
  {
   "cell_type": "markdown",
   "id": "93688409",
   "metadata": {},
   "source": [
    "# Crear metodo en la clase"
   ]
  },
  {
   "cell_type": "code",
   "execution_count": 8,
   "id": "7fbc5ba0",
   "metadata": {},
   "outputs": [],
   "source": [
    "class Vehiculo():\n",
    "    #Metodo constructor\n",
    "    def __init__(self, marca, modelo, cilindraje, color):\n",
    "        self.marca= marca\n",
    "        self.modelo= modelo\n",
    "        self.cilindraje= cilindraje\n",
    "        self.color= color \n",
    "    def moverse(self, kilometros):\n",
    "        print(f\"BRRRRRURUURURURURUUMMMMMMMM BRURURURURUURURURURUMMMMMMMMM, el carro {self.marca} se movio {kilometros} kilometros\")"
   ]
  },
  {
   "cell_type": "code",
   "execution_count": 9,
   "id": "7ca7542c",
   "metadata": {},
   "outputs": [],
   "source": [
    "carro= Vehiculo('Toyota',2022,1600,'Negro')"
   ]
  },
  {
   "cell_type": "code",
   "execution_count": 10,
   "id": "931bc190",
   "metadata": {},
   "outputs": [
    {
     "name": "stdout",
     "output_type": "stream",
     "text": [
      "BRRRRRURUURURURURUUMMMMMMMM BRURURURURUURURURURUMMMMMMMMM, el carro Toyota se movio 100 kilometros\n"
     ]
    }
   ],
   "source": [
    "carro.moverse(100)"
   ]
  },
  {
   "cell_type": "code",
   "execution_count": 11,
   "id": "b7b808e6",
   "metadata": {},
   "outputs": [],
   "source": [
    "class Vehiculo():\n",
    "    #Metodo constructor\n",
    "    def __init__(self, marca, modelo, cilindraje, color):\n",
    "        self.marca= marca\n",
    "        self.modelo= modelo\n",
    "        self.cilindraje= cilindraje\n",
    "        self.color= color\n",
    "\n",
    "    #Metodo moverse \n",
    "    def moverse(self, kilometros):\n",
    "        print(f\"BRRRRRURUURURURURUUMMMMMMMM BRURURURURUURURURURUMMMMMMMMM, el carro {self.marca} se movio {kilometros} kilometros\")\n",
    "    \n",
    "    #Metodo tanquear\n",
    "    def tanquear(self, galones):\n",
    "        print(f\"El vehiculo {self.marca} lleno {galones} galones fiu fiu\")\n",
    "\n",
    "    #Metodo cambiar\n",
    "    def cambiar_llanta(self, llanta):\n",
    "        print(f\"El vehiculo de marca {self.marca} cambio la llanta {llanta}\")"
   ]
  },
  {
   "cell_type": "code",
   "execution_count": 12,
   "id": "3ab02683",
   "metadata": {},
   "outputs": [
    {
     "name": "stdout",
     "output_type": "stream",
     "text": [
      "BRRRRRURUURURURURUUMMMMMMMM BRURURURURUURURURURUMMMMMMMMM, el carro Toyota se movio 100 kilometros\n"
     ]
    }
   ],
   "source": [
    "carro= Vehiculo('Toyota',2022,1600,'Negro')\n",
    "carro.moverse(100)"
   ]
  },
  {
   "cell_type": "code",
   "execution_count": 13,
   "id": "679513ee",
   "metadata": {},
   "outputs": [
    {
     "name": "stdout",
     "output_type": "stream",
     "text": [
      "El vehiculo Toyota lleno 12 galones fiu fiu\n"
     ]
    }
   ],
   "source": [
    "carro.tanquear(12)"
   ]
  },
  {
   "cell_type": "code",
   "execution_count": 14,
   "id": "226b3a7c",
   "metadata": {},
   "outputs": [
    {
     "name": "stdout",
     "output_type": "stream",
     "text": [
      "El vehiculo de marca Toyota cambio la llanta derecha delantera\n"
     ]
    }
   ],
   "source": [
    "carro.cambiar_llanta('derecha delantera')"
   ]
  },
  {
   "cell_type": "markdown",
   "id": "9c1360ac",
   "metadata": {},
   "source": [
    "Crear una clase personal que tenga los atributos nombre, edad, pelicula, estatura y los metodos existir: el personaje de nombre__ existe en la pelicula__, caminar: el personaje de nombre__ camina__ metros"
   ]
  },
  {
   "cell_type": "code",
   "execution_count": 15,
   "id": "09c16b86",
   "metadata": {},
   "outputs": [],
   "source": [
    "class Personaje():\n",
    "    def __init__(self, nombre, edad, pelicula, estatura):\n",
    "        self.nombre= nombre\n",
    "        self.edad= edad\n",
    "        self.pelicula= pelicula\n",
    "        self.estatura= estatura\n",
    "    \n",
    "    def existir(self):\n",
    "        print(f\"El personaje de nombre {self.nombre} existe en la pelicula {self.pelicula}\")\n",
    "    \n",
    "    def caminar(self, distancia):\n",
    "        print(f\"El personaje de nombre {self.nombre} camina {distancia} metros\")"
   ]
  },
  {
   "cell_type": "code",
   "execution_count": 16,
   "id": "aed86375",
   "metadata": {},
   "outputs": [
    {
     "name": "stdout",
     "output_type": "stream",
     "text": [
      "El personaje de nombre Buzz Lightyear existe en la pelicula Toy Story\n",
      "El personaje de nombre Buzz Lightyear camina 10 metros\n",
      "El personaje de nombre Shrek existe en la pelicula Shrek\n",
      "El personaje de nombre Shrek camina 25 metros\n",
      "El personaje de nombre Elsa existe en la pelicula Frozen\n",
      "El personaje de nombre Elsa camina 15 metros\n"
     ]
    }
   ],
   "source": [
    "p1 = Personaje(\"Buzz Lightyear\", 35, \"Toy Story\", 1.80)\n",
    "p2 = Personaje(\"Shrek\", 40, \"Shrek\", 2.20)\n",
    "p3 = Personaje(\"Elsa\", 21, \"Frozen\", 1.70)    \n",
    "\n",
    "p1.existir()\n",
    "p1.caminar(10)\n",
    "\n",
    "p2.existir()\n",
    "p2.caminar(25)\n",
    "\n",
    "p3.existir()\n",
    "p3.caminar(15)"
   ]
  }
 ],
 "metadata": {
  "kernelspec": {
   "display_name": ".venv (3.12.3)",
   "language": "python",
   "name": "python3"
  },
  "language_info": {
   "codemirror_mode": {
    "name": "ipython",
    "version": 3
   },
   "file_extension": ".py",
   "mimetype": "text/x-python",
   "name": "python",
   "nbconvert_exporter": "python",
   "pygments_lexer": "ipython3",
   "version": "3.12.3"
  }
 },
 "nbformat": 4,
 "nbformat_minor": 5
}
